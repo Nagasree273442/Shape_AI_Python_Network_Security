{
  "nbformat": 4,
  "nbformat_minor": 0,
  "metadata": {
    "colab": {
      "name": "Nagasree Lakshmi.S",
      "provenance": []
    },
    "kernelspec": {
      "name": "python3",
      "display_name": "Python 3"
    },
    "language_info": {
      "name": "python"
    }
  },
  "cells": [
    {
      "cell_type": "code",
      "metadata": {
        "id": "RUqsb5IRxffB"
      },
      "source": [
        "import hashlib\n",
        "str=\"hello\"\n",
        "output=hashlib.md5(str.encode())\n",
        "print(\"Your expected hash is:\")\n",
        "print(output.hexdigest())"
      ],
      "execution_count": null,
      "outputs": []
    }
  ]
}